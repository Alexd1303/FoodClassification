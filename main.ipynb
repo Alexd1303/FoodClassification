{
 "cells": [
  {
   "cell_type": "code",
   "execution_count": 45,
   "id": "931217a2",
   "metadata": {},
   "outputs": [
    {
     "data": {
      "text/plain": [
       "device(type='cuda')"
      ]
     },
     "execution_count": 45,
     "metadata": {},
     "output_type": "execute_result"
    }
   ],
   "source": [
    "import torch\n",
    "\n",
    "device = torch.device(torch.accelerator.current_accelerator() if torch.accelerator.is_available() else 'cpu')\\\n",
    "\n",
    "device"
   ]
  },
  {
   "cell_type": "code",
   "execution_count": 46,
   "id": "b3f3e054",
   "metadata": {},
   "outputs": [],
   "source": [
    "import pandas as pd\n",
    "from PIL import Image\n",
    "import matplotlib.pyplot as plt\n",
    "from sklearn.model_selection import train_test_split\n",
    "\n",
    "\n",
    "class FoodDataset(torch.utils.data.Dataset):\n",
    "    def __init__(self, class_list, image_folder):\n",
    "        self.file_class = class_list\n",
    "        self.image_folder = image_folder\n",
    "\n",
    "    def __len__(self):\n",
    "        return len(self.file_class)\n",
    "    \n",
    "    def __getitem__(self, idx):\n",
    "        image_name = self.file_class.iloc[idx, 0]\n",
    "        image_path = f\"{self.image_folder}/{image_name}\"\n",
    "        image = Image.open(image_path).convert('RGB')\n",
    "\n",
    "        label = self.file_class.iloc[idx, 1]\n",
    "        label = torch.tensor(label, dtype=torch.long)\n",
    "        return image, label"
   ]
  },
  {
   "cell_type": "markdown",
   "id": "3266544e",
   "metadata": {},
   "source": [
    "# Dataset split"
   ]
  },
  {
   "cell_type": "code",
   "execution_count": 47,
   "id": "6f5a1639",
   "metadata": {},
   "outputs": [],
   "source": [
    "train_image_label = pd.read_csv('annot/train_info.csv')\n",
    "\n",
    "# Split the dataset into training and validation sets\n",
    "train_df, val_df = train_test_split(train_image_label, train_size = 0.8, test_size=0.2, random_state=42)"
   ]
  },
  {
   "cell_type": "code",
   "execution_count": 48,
   "id": "136c80ad",
   "metadata": {},
   "outputs": [],
   "source": [
    "train_dataset = FoodDataset(train_df, 'train/train_set')\n",
    "image, label = train_dataset.__getitem__(0)\n",
    "\n",
    "val_dataset = FoodDataset(val_df, 'train/train_set')\n",
    "image_val, label_val = val_dataset.__getitem__(0)"
   ]
  },
  {
   "cell_type": "code",
   "execution_count": 50,
   "id": "b15d98bd",
   "metadata": {},
   "outputs": [
    {
     "data": {
      "text/plain": [
       "(<PIL.Image.Image image mode=RGB size=256x379>, tensor(234))"
      ]
     },
     "execution_count": 50,
     "metadata": {},
     "output_type": "execute_result"
    }
   ],
   "source": [
    "test_df = pd.read_csv('annot/val_info.csv')\n",
    "\n",
    "test_dataset = FoodDataset(test_df, 'val/val_set')\n",
    "test_dataset.__getitem__(0)"
   ]
  }
 ],
 "metadata": {
  "kernelspec": {
   "display_name": ".venv",
   "language": "python",
   "name": "python3"
  },
  "language_info": {
   "codemirror_mode": {
    "name": "ipython",
    "version": 3
   },
   "file_extension": ".py",
   "mimetype": "text/x-python",
   "name": "python",
   "nbconvert_exporter": "python",
   "pygments_lexer": "ipython3",
   "version": "3.13.3"
  }
 },
 "nbformat": 4,
 "nbformat_minor": 5
}
